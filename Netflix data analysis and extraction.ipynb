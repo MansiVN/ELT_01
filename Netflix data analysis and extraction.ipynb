{
 "cells": [
  {
   "cell_type": "code",
   "execution_count": 10,
   "id": "d84fff31-6100-4a29-9bb3-cfbdb74fb876",
   "metadata": {},
   "outputs": [],
   "source": [
    "import pandas as pd\n",
    "df= pd.read_csv(\"netflix_titles.csv\") "
   ]
  },
  {
   "cell_type": "markdown",
   "id": "30a13f30-56fc-4a3a-b8cf-5180ef8a649e",
   "metadata": {},
   "source": [
    "Establishing connection with the existing database."
   ]
  },
  {
   "cell_type": "code",
   "execution_count": 11,
   "id": "5133f70f-fa94-4b6c-ae09-fdd94573ac67",
   "metadata": {},
   "outputs": [],
   "source": [
    "import sqlalchemy as sal \n",
    "engine=sal.create_engine('mssql://MANSI\\SQLEXPRESS02/master?driver=ODBC+DRIVER+17+FOR+SQL+SERVER')"
   ]
  },
  {
   "cell_type": "code",
   "execution_count": 12,
   "id": "cd2abd5b-2070-4e0f-b911-073514b447df",
   "metadata": {},
   "outputs": [],
   "source": [
    "conn=engine.connect()"
   ]
  },
  {
   "cell_type": "markdown",
   "id": "b8b2d2b1-718b-4194-b62b-e91b80ab9449",
   "metadata": {},
   "source": [
    "Connecting Pandas to database"
   ]
  },
  {
   "cell_type": "code",
   "execution_count": 13,
   "id": "f33bfe77-fbb9-4ef6-8abf-8bec72f47f1c",
   "metadata": {},
   "outputs": [],
   "source": [
    "df.to_sql('netflix_titles', con=conn, index=False,if_exists='append')\n",
    "conn.close()"
   ]
  },
  {
   "cell_type": "code",
   "execution_count": 23,
   "id": "f3277096-f7c1-4bdc-bd1c-de1278135cdd",
   "metadata": {},
   "outputs": [
    {
     "data": {
      "text/html": [
       "<div>\n",
       "<style scoped>\n",
       "    .dataframe tbody tr th:only-of-type {\n",
       "        vertical-align: middle;\n",
       "    }\n",
       "\n",
       "    .dataframe tbody tr th {\n",
       "        vertical-align: top;\n",
       "    }\n",
       "\n",
       "    .dataframe thead th {\n",
       "        text-align: right;\n",
       "    }\n",
       "</style>\n",
       "<table border=\"1\" class=\"dataframe\">\n",
       "  <thead>\n",
       "    <tr style=\"text-align: right;\">\n",
       "      <th></th>\n",
       "      <th>show_id</th>\n",
       "      <th>type</th>\n",
       "      <th>title</th>\n",
       "      <th>director</th>\n",
       "      <th>cast</th>\n",
       "      <th>country</th>\n",
       "      <th>date_added</th>\n",
       "      <th>release_year</th>\n",
       "      <th>rating</th>\n",
       "      <th>duration</th>\n",
       "      <th>listed_in</th>\n",
       "      <th>description</th>\n",
       "    </tr>\n",
       "  </thead>\n",
       "  <tbody>\n",
       "    <tr>\n",
       "      <th>5022</th>\n",
       "      <td>s5023</td>\n",
       "      <td>Movie</td>\n",
       "      <td>반드시 잡는다</td>\n",
       "      <td>Hong-seon Kim</td>\n",
       "      <td>Baek Yoon-sik</td>\n",
       "      <td>South Korea</td>\n",
       "      <td>February 28, 2018</td>\n",
       "      <td>2017</td>\n",
       "      <td>TV-MA</td>\n",
       "      <td>110 min</td>\n",
       "      <td>Dramas, International Movies, Thrillers</td>\n",
       "      <td>After people in his town start turning up dead...</td>\n",
       "    </tr>\n",
       "  </tbody>\n",
       "</table>\n",
       "</div>"
      ],
      "text/plain": [
       "     show_id   type    title       director           cast      country  \\\n",
       "5022   s5023  Movie  반드시 잡는다  Hong-seon Kim  Baek Yoon-sik  South Korea   \n",
       "\n",
       "             date_added  release_year rating duration  \\\n",
       "5022  February 28, 2018          2017  TV-MA  110 min   \n",
       "\n",
       "                                    listed_in  \\\n",
       "5022  Dramas, International Movies, Thrillers   \n",
       "\n",
       "                                            description  \n",
       "5022  After people in his town start turning up dead...  "
      ]
     },
     "execution_count": 23,
     "metadata": {},
     "output_type": "execute_result"
    }
   ],
   "source": [
    "#Filter out a specific column using show_id to check whether the title column is same as shown in MYSQL Server post creation#\n",
    "df[df.show_id=='s5023']  "
   ]
  },
  {
   "cell_type": "markdown",
   "id": "4407ade2-709b-451d-9e95-b8575e5819e6",
   "metadata": {},
   "source": [
    "Since the column in MYSQL takes data type as varchar, the title column in some cases got altered due to inserting character foreign to varchar. \n",
    "To resolve this-Created a new table with data type for the title column as nvarchar (nvarchar takes all characters)\n",
    "Additionally, since mysql considers each row's data length as max (around 64k), we optimised processing time - We changed column length in new table as per the max length of row value for each column. "
   ]
  },
  {
   "cell_type": "code",
   "execution_count": 51,
   "id": "0cc6f2e6-5fff-46ab-a757-99ad90c2ab32",
   "metadata": {},
   "outputs": [
    {
     "data": {
      "text/plain": [
       "5"
      ]
     },
     "execution_count": 51,
     "metadata": {},
     "output_type": "execute_result"
    }
   ],
   "source": [
    "max(df.show_id.dropna().str.len())\n",
    "# max(df.type.dropna().str.len())\n",
    "# max(df.title.dropna().str.len())\n",
    "# max(df.director.dropna().str.len())\n",
    "# max(df.cast.dropna().str.len())\n",
    "# max(df.country.dropna().str.len())\n",
    "# max(df.date_added.dropna().str.len())\n",
    "# max(df.release_year.dropna().str.len())\n",
    "# max(df.duration.dropna().str.len())\n",
    "# max(df.listed_in.dropna().str.len())\n",
    "# max(df.description.dropna().str.len())"
   ]
  },
  {
   "cell_type": "code",
   "execution_count": null,
   "id": "41b32789-1c57-44d0-aca7-90bede684af0",
   "metadata": {},
   "outputs": [],
   "source": []
  }
 ],
 "metadata": {
  "kernelspec": {
   "display_name": "Python 3 (ipykernel)",
   "language": "python",
   "name": "python3"
  },
  "language_info": {
   "codemirror_mode": {
    "name": "ipython",
    "version": 3
   },
   "file_extension": ".py",
   "mimetype": "text/x-python",
   "name": "python",
   "nbconvert_exporter": "python",
   "pygments_lexer": "ipython3",
   "version": "3.11.7"
  }
 },
 "nbformat": 4,
 "nbformat_minor": 5
}
